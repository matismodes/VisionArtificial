{
  "nbformat": 4,
  "nbformat_minor": 0,
  "metadata": {
    "colab": {
      "provenance": []
    },
    "kernelspec": {
      "name": "python3",
      "display_name": "Python 3"
    },
    "language_info": {
      "name": "python"
    }
  },
  "cells": [
    {
      "cell_type": "markdown",
      "source": [
        "<h1>Función LabelMe2Yolo - Trabajo Grupal de Vision Artificial</h1>\n",
        "<span>Miembros del Grupo: <strong>Mateo Ignacio Ismodes Sole, Laura Jimena Tagle Muñoz"
      ],
      "metadata": {
        "id": "RI4AUCgY5C5F"
      }
    },
    {
      "cell_type": "code",
      "source": [
        "# Importando Modulos\n",
        "import json\n",
        "import re\n",
        "import os\n",
        "import shutil\n",
        "from google.colab import files"
      ],
      "metadata": {
        "id": "tF9_ab-f5mE6"
      },
      "execution_count": null,
      "outputs": []
    },
    {
      "cell_type": "code",
      "source": [
        "# Convertir Json a Diccionario\n",
        "def json2dict(filePath, dirPath):\n",
        "  with open(dirPath + \"/\" + filePath) as jsonFile:\n",
        "    return json.load(jsonFile)\n",
        "\n",
        "# Funcion para determinar si string contiene el stem\n",
        "def check_stem(input_string):\n",
        "  expr = r\"stem\\d*\"\n",
        "  return bool(re.search(expr, input_string))\n",
        "\n",
        "# Function para generar el archivo .txt\n",
        "def list2txt(listInput, filePath):\n",
        "  with open(filePath, \"w\") as file:\n",
        "    for dataRow in listInput:\n",
        "      line = \" \".join(map(str, dataRow))\n",
        "      file.write(line + \"\\n\")"
      ],
      "metadata": {
        "id": "5AEeTkr659sa"
      },
      "execution_count": null,
      "outputs": []
    },
    {
      "cell_type": "code",
      "source": [
        "# labelMe2Yolo\n",
        "def labelMe2Yolo(directoryPath):\n",
        "  # Primero: Obtenemos los paths a los archivos json\n",
        "  filePaths = os.listdir(directoryPath)\n",
        "  # Segundo: Se crea un directorio para los outputs .txt\n",
        "  outDirPath = \"./outputYoloTxts\"\n",
        "  if os.path.exists(outDirPath):\n",
        "    shutil.rmtree(outDirPath)\n",
        "  os.makedirs(outDirPath)\n",
        "  # Tercero: Procesamos cada json y lo convertimos en .txt\n",
        "  for filePath in filePaths:\n",
        "    list_output = []\n",
        "    data_dict = json2dict(filePath, directoryPath)\n",
        "    data = data_dict['shapes']\n",
        "    imageWidth = data_dict['imageWidth']\n",
        "    imageHeight = data_dict['imageHeight']\n",
        "    for shape in data:\n",
        "      if check_stem(shape['label']) == True:\n",
        "        point1 = shape['points'][0]\n",
        "        point4 = shape['points'][1]\n",
        "        point2 = [shape['points'][1][0], shape['points'][0][1]]\n",
        "        point3 = [shape['points'][0][0], shape['points'][1][1]]\n",
        "        width = (point2[0] - point1[0])/imageWidth\n",
        "        height = (point3[1] - point1[1])/imageHeight\n",
        "        center_X = ((point1[0] + point2[0])/2)/imageWidth\n",
        "        center_Y = ((point1[1] + point3[1])/2)/imageHeight\n",
        "        list_output.append([0, center_X, center_Y, width, height])\n",
        "    path_output = \"./outputYoloTxts/\" + os.path.basename(filePath).split('.')[0] + \".txt\"\n",
        "    list2txt(list_output, path_output)"
      ],
      "metadata": {
        "id": "T7moV_-i6wC8"
      },
      "execution_count": null,
      "outputs": []
    },
    {
      "cell_type": "code",
      "source": [
        "labelMe2Yolo(\"./jsons\")"
      ],
      "metadata": {
        "id": "GpBAZVDiKFzd"
      },
      "execution_count": null,
      "outputs": []
    },
    {
      "cell_type": "code",
      "source": [
        "shutil.make_archive(\"outputYoloTxts\", 'zip', \"outputYoloTxts\")\n",
        "files.download(\"outputYoloTxts.zip\")\n"
      ],
      "metadata": {
        "colab": {
          "base_uri": "https://localhost:8080/",
          "height": 17
        },
        "id": "Y6jbhYSXN0U8",
        "outputId": "554f6694-7d8f-47f6-f2a2-40204112abfc"
      },
      "execution_count": null,
      "outputs": [
        {
          "output_type": "display_data",
          "data": {
            "text/plain": [
              "<IPython.core.display.Javascript object>"
            ],
            "application/javascript": [
              "\n",
              "    async function download(id, filename, size) {\n",
              "      if (!google.colab.kernel.accessAllowed) {\n",
              "        return;\n",
              "      }\n",
              "      const div = document.createElement('div');\n",
              "      const label = document.createElement('label');\n",
              "      label.textContent = `Downloading \"${filename}\": `;\n",
              "      div.appendChild(label);\n",
              "      const progress = document.createElement('progress');\n",
              "      progress.max = size;\n",
              "      div.appendChild(progress);\n",
              "      document.body.appendChild(div);\n",
              "\n",
              "      const buffers = [];\n",
              "      let downloaded = 0;\n",
              "\n",
              "      const channel = await google.colab.kernel.comms.open(id);\n",
              "      // Send a message to notify the kernel that we're ready.\n",
              "      channel.send({})\n",
              "\n",
              "      for await (const message of channel.messages) {\n",
              "        // Send a message to notify the kernel that we're ready.\n",
              "        channel.send({})\n",
              "        if (message.buffers) {\n",
              "          for (const buffer of message.buffers) {\n",
              "            buffers.push(buffer);\n",
              "            downloaded += buffer.byteLength;\n",
              "            progress.value = downloaded;\n",
              "          }\n",
              "        }\n",
              "      }\n",
              "      const blob = new Blob(buffers, {type: 'application/binary'});\n",
              "      const a = document.createElement('a');\n",
              "      a.href = window.URL.createObjectURL(blob);\n",
              "      a.download = filename;\n",
              "      div.appendChild(a);\n",
              "      a.click();\n",
              "      div.remove();\n",
              "    }\n",
              "  "
            ]
          },
          "metadata": {}
        },
        {
          "output_type": "display_data",
          "data": {
            "text/plain": [
              "<IPython.core.display.Javascript object>"
            ],
            "application/javascript": [
              "download(\"download_a9dfe6bf-887b-450e-a9da-2d12ccecbd80\", \"outputYoloTxts.zip\", 1554)"
            ]
          },
          "metadata": {}
        }
      ]
    }
  ]
}